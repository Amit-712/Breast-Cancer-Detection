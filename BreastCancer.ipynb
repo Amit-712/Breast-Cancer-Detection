{
  "nbformat": 4,
  "nbformat_minor": 0,
  "metadata": {
    "colab": {
      "provenance": [],
      "gpuType": "T4",
      "mount_file_id": "1k0eWvjgb8D_7txMDL4u1YlSSj1-tURoe",
      "authorship_tag": "ABX9TyMqrD9+A0tLG3LyJfBrcGkI",
      "include_colab_link": true
    },
    "kernelspec": {
      "name": "python3",
      "display_name": "Python 3"
    },
    "language_info": {
      "name": "python"
    },
    "accelerator": "GPU"
  },
  "cells": [
    {
      "cell_type": "markdown",
      "metadata": {
        "id": "view-in-github",
        "colab_type": "text"
      },
      "source": [
        "<a href=\"https://colab.research.google.com/github/Amit-712/Breast-Cancer-Prediction/blob/main/BreastCancer.ipynb\" target=\"_parent\"><img src=\"https://colab.research.google.com/assets/colab-badge.svg\" alt=\"Open In Colab\"/></a>"
      ]
    },
    {
      "cell_type": "markdown",
      "source": [
        "#Data Understanding\n",
        "Loading the Dataset"
      ],
      "metadata": {
        "id": "H070vvjiNHYn"
      }
    },
    {
      "cell_type": "code",
      "source": [
        "from google.colab import files\n",
        "\n",
        "uploaded = files.upload()\n"
      ],
      "metadata": {
        "colab": {
          "base_uri": "https://localhost:8080/",
          "height": 73
        },
        "id": "jXzywLSMU0Vq",
        "outputId": "bb936875-4df5-4233-8328-671d66a81728"
      },
      "execution_count": 1,
      "outputs": [
        {
          "output_type": "display_data",
          "data": {
            "text/plain": [
              "<IPython.core.display.HTML object>"
            ],
            "text/html": [
              "\n",
              "     <input type=\"file\" id=\"files-fd67640d-e7f6-4cb9-80f1-876ea039d3a5\" name=\"files[]\" multiple disabled\n",
              "        style=\"border:none\" />\n",
              "     <output id=\"result-fd67640d-e7f6-4cb9-80f1-876ea039d3a5\">\n",
              "      Upload widget is only available when the cell has been executed in the\n",
              "      current browser session. Please rerun this cell to enable.\n",
              "      </output>\n",
              "      <script>// Copyright 2017 Google LLC\n",
              "//\n",
              "// Licensed under the Apache License, Version 2.0 (the \"License\");\n",
              "// you may not use this file except in compliance with the License.\n",
              "// You may obtain a copy of the License at\n",
              "//\n",
              "//      http://www.apache.org/licenses/LICENSE-2.0\n",
              "//\n",
              "// Unless required by applicable law or agreed to in writing, software\n",
              "// distributed under the License is distributed on an \"AS IS\" BASIS,\n",
              "// WITHOUT WARRANTIES OR CONDITIONS OF ANY KIND, either express or implied.\n",
              "// See the License for the specific language governing permissions and\n",
              "// limitations under the License.\n",
              "\n",
              "/**\n",
              " * @fileoverview Helpers for google.colab Python module.\n",
              " */\n",
              "(function(scope) {\n",
              "function span(text, styleAttributes = {}) {\n",
              "  const element = document.createElement('span');\n",
              "  element.textContent = text;\n",
              "  for (const key of Object.keys(styleAttributes)) {\n",
              "    element.style[key] = styleAttributes[key];\n",
              "  }\n",
              "  return element;\n",
              "}\n",
              "\n",
              "// Max number of bytes which will be uploaded at a time.\n",
              "const MAX_PAYLOAD_SIZE = 100 * 1024;\n",
              "\n",
              "function _uploadFiles(inputId, outputId) {\n",
              "  const steps = uploadFilesStep(inputId, outputId);\n",
              "  const outputElement = document.getElementById(outputId);\n",
              "  // Cache steps on the outputElement to make it available for the next call\n",
              "  // to uploadFilesContinue from Python.\n",
              "  outputElement.steps = steps;\n",
              "\n",
              "  return _uploadFilesContinue(outputId);\n",
              "}\n",
              "\n",
              "// This is roughly an async generator (not supported in the browser yet),\n",
              "// where there are multiple asynchronous steps and the Python side is going\n",
              "// to poll for completion of each step.\n",
              "// This uses a Promise to block the python side on completion of each step,\n",
              "// then passes the result of the previous step as the input to the next step.\n",
              "function _uploadFilesContinue(outputId) {\n",
              "  const outputElement = document.getElementById(outputId);\n",
              "  const steps = outputElement.steps;\n",
              "\n",
              "  const next = steps.next(outputElement.lastPromiseValue);\n",
              "  return Promise.resolve(next.value.promise).then((value) => {\n",
              "    // Cache the last promise value to make it available to the next\n",
              "    // step of the generator.\n",
              "    outputElement.lastPromiseValue = value;\n",
              "    return next.value.response;\n",
              "  });\n",
              "}\n",
              "\n",
              "/**\n",
              " * Generator function which is called between each async step of the upload\n",
              " * process.\n",
              " * @param {string} inputId Element ID of the input file picker element.\n",
              " * @param {string} outputId Element ID of the output display.\n",
              " * @return {!Iterable<!Object>} Iterable of next steps.\n",
              " */\n",
              "function* uploadFilesStep(inputId, outputId) {\n",
              "  const inputElement = document.getElementById(inputId);\n",
              "  inputElement.disabled = false;\n",
              "\n",
              "  const outputElement = document.getElementById(outputId);\n",
              "  outputElement.innerHTML = '';\n",
              "\n",
              "  const pickedPromise = new Promise((resolve) => {\n",
              "    inputElement.addEventListener('change', (e) => {\n",
              "      resolve(e.target.files);\n",
              "    });\n",
              "  });\n",
              "\n",
              "  const cancel = document.createElement('button');\n",
              "  inputElement.parentElement.appendChild(cancel);\n",
              "  cancel.textContent = 'Cancel upload';\n",
              "  const cancelPromise = new Promise((resolve) => {\n",
              "    cancel.onclick = () => {\n",
              "      resolve(null);\n",
              "    };\n",
              "  });\n",
              "\n",
              "  // Wait for the user to pick the files.\n",
              "  const files = yield {\n",
              "    promise: Promise.race([pickedPromise, cancelPromise]),\n",
              "    response: {\n",
              "      action: 'starting',\n",
              "    }\n",
              "  };\n",
              "\n",
              "  cancel.remove();\n",
              "\n",
              "  // Disable the input element since further picks are not allowed.\n",
              "  inputElement.disabled = true;\n",
              "\n",
              "  if (!files) {\n",
              "    return {\n",
              "      response: {\n",
              "        action: 'complete',\n",
              "      }\n",
              "    };\n",
              "  }\n",
              "\n",
              "  for (const file of files) {\n",
              "    const li = document.createElement('li');\n",
              "    li.append(span(file.name, {fontWeight: 'bold'}));\n",
              "    li.append(span(\n",
              "        `(${file.type || 'n/a'}) - ${file.size} bytes, ` +\n",
              "        `last modified: ${\n",
              "            file.lastModifiedDate ? file.lastModifiedDate.toLocaleDateString() :\n",
              "                                    'n/a'} - `));\n",
              "    const percent = span('0% done');\n",
              "    li.appendChild(percent);\n",
              "\n",
              "    outputElement.appendChild(li);\n",
              "\n",
              "    const fileDataPromise = new Promise((resolve) => {\n",
              "      const reader = new FileReader();\n",
              "      reader.onload = (e) => {\n",
              "        resolve(e.target.result);\n",
              "      };\n",
              "      reader.readAsArrayBuffer(file);\n",
              "    });\n",
              "    // Wait for the data to be ready.\n",
              "    let fileData = yield {\n",
              "      promise: fileDataPromise,\n",
              "      response: {\n",
              "        action: 'continue',\n",
              "      }\n",
              "    };\n",
              "\n",
              "    // Use a chunked sending to avoid message size limits. See b/62115660.\n",
              "    let position = 0;\n",
              "    do {\n",
              "      const length = Math.min(fileData.byteLength - position, MAX_PAYLOAD_SIZE);\n",
              "      const chunk = new Uint8Array(fileData, position, length);\n",
              "      position += length;\n",
              "\n",
              "      const base64 = btoa(String.fromCharCode.apply(null, chunk));\n",
              "      yield {\n",
              "        response: {\n",
              "          action: 'append',\n",
              "          file: file.name,\n",
              "          data: base64,\n",
              "        },\n",
              "      };\n",
              "\n",
              "      let percentDone = fileData.byteLength === 0 ?\n",
              "          100 :\n",
              "          Math.round((position / fileData.byteLength) * 100);\n",
              "      percent.textContent = `${percentDone}% done`;\n",
              "\n",
              "    } while (position < fileData.byteLength);\n",
              "  }\n",
              "\n",
              "  // All done.\n",
              "  yield {\n",
              "    response: {\n",
              "      action: 'complete',\n",
              "    }\n",
              "  };\n",
              "}\n",
              "\n",
              "scope.google = scope.google || {};\n",
              "scope.google.colab = scope.google.colab || {};\n",
              "scope.google.colab._files = {\n",
              "  _uploadFiles,\n",
              "  _uploadFilesContinue,\n",
              "};\n",
              "})(self);\n",
              "</script> "
            ]
          },
          "metadata": {}
        },
        {
          "output_type": "stream",
          "name": "stdout",
          "text": [
            "Saving clasification-roi.rar to clasification-roi.rar\n"
          ]
        }
      ]
    },
    {
      "cell_type": "code",
      "source": [
        "!pip install rarfile\n",
        "import rarfile\n",
        "\n",
        "with rarfile.RarFile(\"/content/clasification-roi.rar\") as rf:\n",
        "    rf.extractall(\"/content/dataset\")\n"
      ],
      "metadata": {
        "colab": {
          "base_uri": "https://localhost:8080/"
        },
        "id": "o2AF40QWVAbd",
        "outputId": "793d79c9-aab8-4486-8aa2-7b9a879a5259"
      },
      "execution_count": 2,
      "outputs": [
        {
          "output_type": "stream",
          "name": "stdout",
          "text": [
            "Collecting rarfile\n",
            "  Downloading rarfile-4.2-py3-none-any.whl.metadata (4.4 kB)\n",
            "Downloading rarfile-4.2-py3-none-any.whl (29 kB)\n",
            "Installing collected packages: rarfile\n",
            "Successfully installed rarfile-4.2\n"
          ]
        }
      ]
    },
    {
      "cell_type": "code",
      "source": [
        "import os\n",
        "import matplotlib.pyplot as plt\n",
        "from PIL import Image\n",
        "import torch\n",
        "import torch.nn as nn\n",
        "from torchvision import transforms\n",
        "from torchvision.datasets import ImageFolder\n",
        "from torch.utils.data import DataLoader\n",
        "import cv2\n",
        "from torch.utils.data import DataLoader, WeightedRandomSampler\n",
        "\n",
        "\n",
        "# Define the path to your dataset\n",
        "data_dir = \"/content/dataset/clasification-roi\"\n",
        "\n",
        "# Check the directory structure\n",
        "train_dir = os.path.join(data_dir, 'train')\n",
        "val_dir = os.path.join(data_dir, 'val')\n",
        "test_dir = os.path.join(data_dir, 'test')\n",
        "\n",
        "# Print the classes available in the train directory\n",
        "print(\"Classes in training set:\")\n",
        "print(os.listdir(train_dir))\n",
        "\n",
        "# Print the classes available in the val directory\n",
        "print(\"\\nClasses in val set:\")\n",
        "print(os.listdir(val_dir))\n",
        "\n",
        "# Print the classes available in the test directory\n",
        "print(\"\\nClasses in test set:\")\n",
        "print(os.listdir(test_dir))"
      ],
      "metadata": {
        "colab": {
          "base_uri": "https://localhost:8080/"
        },
        "id": "r9LubRMFMo96",
        "outputId": "702e4993-bcf1-4d78-87c2-7d8b2f9d28da"
      },
      "execution_count": 3,
      "outputs": [
        {
          "output_type": "stream",
          "name": "stdout",
          "text": [
            "Classes in training set:\n",
            "['Benign', 'Malignant']\n",
            "\n",
            "Classes in val set:\n",
            "['Benign', 'Malignant']\n",
            "\n",
            "Classes in test set:\n",
            "['Benign', 'Malignant']\n"
          ]
        }
      ]
    },
    {
      "cell_type": "markdown",
      "source": [
        "#Anaylzing the dataset\n",
        "Counting images in each class directory"
      ],
      "metadata": {
        "id": "TxT50_aoNM_u"
      }
    },
    {
      "cell_type": "code",
      "source": [
        "\n",
        "def count_images(directory):\n",
        "\n",
        "    class_counts = {}\n",
        "    for class_name in os.listdir(directory):\n",
        "        class_path = os.path.join(directory, class_name)\n",
        "        if os.path.isdir(class_path):\n",
        "            class_counts[class_name] = len(os.listdir(class_path))\n",
        "    return class_counts\n",
        "\n",
        "# Count images in the training set\n",
        "train_class_counts = count_images(train_dir)\n",
        "print(\"Number of images in each class (train):\", train_class_counts)"
      ],
      "metadata": {
        "colab": {
          "base_uri": "https://localhost:8080/"
        },
        "id": "9WPXbapiM6C6",
        "outputId": "0cac56a2-adc1-4617-eb95-64e3ffd04f9c"
      },
      "execution_count": 4,
      "outputs": [
        {
          "output_type": "stream",
          "name": "stdout",
          "text": [
            "Number of images in each class (train): {'Benign': 61, 'Malignant': 105}\n"
          ]
        }
      ]
    },
    {
      "cell_type": "markdown",
      "source": [
        "#Displaying sample images from a given directory"
      ],
      "metadata": {
        "id": "gSDIq8FJWl-e"
      }
    },
    {
      "cell_type": "code",
      "source": [
        "# Displayingg sample images from a given directory\n",
        "def show_sample_images(class_dir, num_images=5):\n",
        "\n",
        "    class_images = os.listdir(class_dir)[:num_images]\n",
        "    plt.figure(figsize=(15, 5))\n",
        "    for i, img_name in enumerate(class_images):\n",
        "        img_path = os.path.join(class_dir, img_name)\n",
        "        img = Image.open(img_path)\n",
        "        plt.subplot(1, num_images, i + 1)\n",
        "        plt.imshow(img)\n",
        "        plt.axis('off')\n",
        "    plt.show()\n",
        "\n",
        "\n",
        "# Defining the train\\Benign\\BreaDM-Be-1801 directory\n",
        "benign_images = \"/content/dataset/clasification-roi/train/Benign/BreaDM-Be-1801\"\n",
        "img_dir = os.path.join(benign_images, 'SUB1')\n",
        "\n",
        "malignant_images = \"/content/dataset/clasification-roi/train/Malignant/BreaDM-Ma-1802\"\n",
        "img_dir = os.path.join(benign_images, 'SUB2')\n",
        "\n",
        "# Showing sample images from the 'Benign' class\n",
        "print(\"Sample images from the 'Benign' class\")\n",
        "show_sample_images(os.path.join(benign_images, 'SUB1'))\n",
        "\n",
        "\n",
        "# Showing sample images from the 'Maligant' class\n",
        "print(\"Sample images from the 'Malignant' class\")\n",
        "show_sample_images(os.path.join(malignant_images, 'SUB2'))"
      ],
      "metadata": {
        "colab": {
          "base_uri": "https://localhost:8080/",
          "height": 400
        },
        "id": "6xFyQpmJRSPB",
        "outputId": "56dc46de-bd32-46c8-d870-7a8f355dbc13"
      },
      "execution_count": 5,
      "outputs": [
        {
          "output_type": "stream",
          "name": "stdout",
          "text": [
            "Sample images from the 'Benign' class\n"
          ]
        },
        {
          "output_type": "display_data",
          "data": {
            "text/plain": [
              "<Figure size 1500x500 with 5 Axes>"
            ],
            "image/png": "[encoded data removed]"
          },
          "metadata": {}
        },
        {
          "output_type": "stream",
          "name": "stdout",
          "text": [
            "Sample images from the 'Malignant' class\n"
          ]
        },
        {
          "output_type": "display_data",
          "data": {
            "text/plain": [
              "<Figure size 1500x500 with 5 Axes>"
            ],
            "image/png": "[encoded data removed]"
          },
          "metadata": {}
        }
      ]
    },
    {
      "cell_type": "code",
      "source": [
        "train_transform = transforms.Compose([\n",
        "     transforms.RandomResizedCrop(224),\n",
        "    transforms.RandomHorizontalFlip(),\n",
        "    transforms.RandomRotation(30),  # Increased rotation range\n",
        "    transforms.ColorJitter(brightness=0.3, contrast=0.3, saturation=0.3, hue=0.3),\n",
        "    transforms.RandomGrayscale(p=0.3),  # Increased grayscale probability\n",
        "    transforms.RandomAffine(degrees=15),  # Slight affine transformations for rotation/translation\n",
        "    transforms.ToTensor(),\n",
        "    transforms.Normalize([0.485, 0.456, 0.406], [0.229, 0.224, 0.225])])"
      ],
      "metadata": {
        "id": "swdn48llah0H"
      },
      "execution_count": 6,
      "outputs": []
    },
    {
      "cell_type": "code",
      "source": [
        "test_transform = transforms.Compose([\n",
        "    transforms.Resize((224, 224)),\n",
        "    transforms.ToTensor(),\n",
        "    transforms.Normalize(mean=[0.485, 0.456, 0.406], std=[0.229, 0.224, 0.225])\n",
        "])"
      ],
      "metadata": {
        "id": "WyOlmPe_akPd"
      },
      "execution_count": 7,
      "outputs": []
    },
    {
      "cell_type": "code",
      "source": [
        "def show_augmented_image(img_path):\n",
        "    # Open the image\n",
        "    image = Image.open(img_path)\n",
        "\n",
        "    # Converting the image to RGB if it’s in a different mode\n",
        "    if image.mode != 'RGB':\n",
        "        image = image.convert('RGB')\n",
        "\n",
        "    # Applying the augmentation transformations\n",
        "    augmented_image = train_transform(image)\n",
        "\n",
        "    # Convert back to numpy for visualization\n",
        "    img = augmented_image.permute(1, 2, 0)  # Change from (Channels, Height, Width) to (Height, Width, Channels)\n",
        "\n",
        "    # Unnormalize the image for visualization\n",
        "    img = img * torch.tensor([0.229, 0.224, 0.225]) + torch.tensor([0.485, 0.456, 0.406])\n",
        "    img = img.clamp(0, 1)  # Clamp the values to [0, 1]\n",
        "\n",
        "    # Plot the image\n",
        "    plt.figure(figsize=(4, 3))\n",
        "    plt.imshow(img)\n",
        "    plt.title(\"Augmented Image\")\n",
        "    plt.axis('off')\n",
        "    plt.show()\n",
        "\n",
        "# Example image paths for Benign and Malignant classes\n",
        "benign_example_path = \"/content/dataset/clasification-roi/train/Benign/BreaDM-Be-1801/SUB1/p-032.jpg\"\n",
        "malignant_example_path = \"/content/dataset/clasification-roi/train/Malignant/BreaDM-Ma-1802/SUB1/p-035.jpg\"\n",
        "\n",
        "# Show augmented images\n",
        "show_augmented_image(benign_example_path)\n",
        "show_augmented_image(malignant_example_path)"
      ],
      "metadata": {
        "colab": {
          "base_uri": "https://localhost:8080/",
          "height": 563
        },
        "id": "WTQLDBMfam1D",
        "outputId": "6c9be78b-1a2f-42cd-f3b8-ddecae111647"
      },
      "execution_count": 8,
      "outputs": [
        {
          "output_type": "display_data",
          "data": {
            "text/plain": [
              "<Figure size 400x300 with 1 Axes>"
            ],
            "image/png": "[encoded data removed]"
          },
          "metadata": {}
        },
        {
          "output_type": "display_data",
          "data": {
            "text/plain": [
              "<Figure size 400x300 with 1 Axes>"
            ],
            "image/png": "[encoded data removed]"
          },
          "metadata": {}
        }
      ]
    },
    {
      "cell_type": "code",
      "source": [
        "from torchvision import datasets, transforms\n",
        "from torchvision.datasets import ImageFolder\n",
        "\n",
        "data_dir = \"/content/dataset/clasification-roi\"\n",
        "train_dataset = datasets.ImageFolder(root=os.path.join(data_dir, 'train'), transform=train_transform)\n",
        "val_dataset = datasets.ImageFolder(root=os.path.join(data_dir, 'val'), transform=test_transform)\n",
        "test_dataset = datasets.ImageFolder(root=os.path.join(data_dir, 'test'), transform=test_transform)"
      ],
      "metadata": {
        "id": "BwGCJE-sabrV"
      },
      "execution_count": 9,
      "outputs": []
    },
    {
      "cell_type": "code",
      "source": [
        "batch_size = 64\n",
        "train_loader = DataLoader(train_dataset, batch_size=batch_size, shuffle=True, num_workers=2, drop_last=True)\n",
        "val_loader = DataLoader(val_dataset, batch_size=batch_size, shuffle=False, num_workers=2, drop_last=True)\n",
        "test_loader = DataLoader(test_dataset, batch_size=batch_size, shuffle=False, num_workers=2, drop_last=True)\n",
        "\n",
        "# Check the size of each dataset\n",
        "print(f'Training set size: {len(train_loader.dataset)}')\n",
        "print(f'Validation set size: {len(val_loader.dataset)}')\n",
        "print(f'Test set size: {len(test_loader.dataset)}')"
      ],
      "metadata": {
        "colab": {
          "base_uri": "https://localhost:8080/"
        },
        "id": "RE6TYfp1bAX6",
        "outputId": "6a1f9275-9427-4e4d-817e-397a17ffc967"
      },
      "execution_count": 10,
      "outputs": [
        {
          "output_type": "stream",
          "name": "stdout",
          "text": [
            "Training set size: 20434\n",
            "Validation set size: 1989\n",
            "Test set size: 6851\n"
          ]
        }
      ]
    },
    {
      "cell_type": "code",
      "source": [
        "import numpy as np\n",
        "import torch\n",
        "\n",
        "class EarlyStopping:\n",
        "    def __init__(self, patience=7, verbose=False, delta=0, path='checkpoint.pt', trace_func=print):\n",
        "\n",
        "        self.patience = patience # How long to wait after last time validation loss improved.\n",
        "        self.verbose = verbose #If true, prints a message for each validation loss improvement.\n",
        "        self.delta = delta # Minimum change in monotered quality to quantofy improvement\n",
        "        self.path = path # file path for saving the model checkpoint\n",
        "        self.trace_func = trace_func # fun to output message\n",
        "        self.counter = 0 # track of epochs with no improvement.\n",
        "        self.best_score = None #store the best score\n",
        "        self.early_stop = False #indicating whether to stop training.\n",
        "        self.val_loss_min = np.inf # store the minimum validation loss encountered during training\n",
        "        #self.best_epoch = 0 #The epoch number of the best model.\n",
        "        #Epoch is used to describe one complete pass through the entire training dataset.\n",
        "\n",
        "\n",
        "    def __call__(self, val_loss, model):\n",
        "        # method is called at end of each epoch to check if the validation loss has improved.\n",
        "        score = -val_loss\n",
        "\n",
        "        if self.best_score is None:\n",
        "            self.best_score = score #the current score is set as the best score\n",
        "            self.save_checkpoint(val_loss, model)\n",
        "\n",
        "        elif score < self.best_score + self.delta:\n",
        "            self.counter += 1\n",
        "            self.trace_func(f'EarlyStopping counter: {self.counter} out of {self.patience}')\n",
        "            if self.counter >= self.patience:\n",
        "                self.early_stop = True\n",
        "        else:\n",
        "            self.best_score = score\n",
        "            self.save_checkpoint(val_loss, model)\n",
        "            self.counter = 0\n",
        "\n",
        "# checkpoint methond\n",
        "    def save_checkpoint(self, val_loss, model):\n",
        "\n",
        "        if self.verbose:\n",
        "            self.trace_func(f'Validation loss decreased ({self.val_loss_min:.6f} --> {val_loss:.6f}). save model')\n",
        "        torch.save(model.state_dict(), self.path)\n",
        "        self.val_loss_min = val_loss"
      ],
      "metadata": {
        "id": "nnll2rcsZALl"
      },
      "execution_count": 11,
      "outputs": []
    },
    {
      "cell_type": "code",
      "source": [
        "import torch\n",
        "import torch.nn as nn\n",
        "import torchvision.models as models\n",
        "\n",
        "model_name = 'vgg16'\n",
        "#Customvgg16 class inherit from nn.Module\n",
        "class CustomVGG16(nn.Module):\n",
        "    def __init__(self, num_classes=2):\n",
        "        super(CustomVGG16, self).__init__()\n",
        "\n",
        "        # Loading pre-trained VGG16 model from tourchvision.models\n",
        "        vgg16 = models.vgg16(pretrained=True)\n",
        "\n",
        "        # Extracting the features and avgpool layers frm pretrainedmodel\n",
        "        self.features = vgg16.features\n",
        "        self.avgpool = vgg16.avgpool\n",
        "\n",
        "        # Define a new classifier nn.Sequential\n",
        "        self.classifier = nn.Sequential(\n",
        "            nn.Linear(512 * 7 * 7, 4096), #input and output\n",
        "            nn.ReLU(inplace=True), #for activation\n",
        "            nn.Dropout(), #for regularization\n",
        "            nn.Linear(4096, 4096),\n",
        "            nn.ReLU(inplace=True),\n",
        "            nn.Dropout(),\n",
        "            nn.Linear(4096, num_classes)\n",
        "        )\n",
        "\n",
        "    def forward(self, x):\n",
        "\n",
        "        x = self.features(x) # Passing the input through the features layer\n",
        "        x = self.avgpool(x) # Using the avgpool layer\n",
        "        x = torch.flatten(x, 1) # Reshaping the output to a 2D tensor\n",
        "        x = self.classifier(x) # Passing the reshaped output to the custom classifier\n",
        "        return x\n",
        "\n",
        "# printing model\n",
        "if __name__ == \"__main__\":\n",
        "    model = CustomVGG16(num_classes=2)\n",
        "    print(model)\n"
      ],
      "metadata": {
        "colab": {
          "base_uri": "https://localhost:8080/"
        },
        "id": "6eTgATfhXHr8",
        "outputId": "022bcc5a-e2c3-4865-caff-992a18b958d5"
      },
      "execution_count": 12,
      "outputs": [
        {
          "output_type": "stream",
          "name": "stderr",
          "text": [
            "/usr/local/lib/python3.11/dist-packages/torchvision/models/_utils.py:208: UserWarning: The parameter 'pretrained' is deprecated since 0.13 and may be removed in the future, please use 'weights' instead.\n",
            "  warnings.warn(\n",
            "/usr/local/lib/python3.11/dist-packages/torchvision/models/_utils.py:223: UserWarning: Arguments other than a weight enum or `None` for 'weights' are deprecated since 0.13 and may be removed in the future. The current behavior is equivalent to passing `weights=VGG16_Weights.IMAGENET1K_V1`. You can also use `weights=VGG16_Weights.DEFAULT` to get the most up-to-date weights.\n",
            "  warnings.warn(msg)\n",
            "Downloading: \"https://download.pytorch.org/models/vgg16-397923af.pth\" to /root/.cache/torch/hub/checkpoints/vgg16-397923af.pth\n",
            "100%|██████████| 528M/528M [00:06<00:00, 83.7MB/s]\n"
          ]
        },
        {
          "output_type": "stream",
          "name": "stdout",
          "text": [
            "CustomVGG16(\n",
            "  (features): Sequential(\n",
            "    (0): Conv2d(3, 64, kernel_size=(3, 3), stride=(1, 1), padding=(1, 1))\n",
            "    (1): ReLU(inplace=True)\n",
            "    (2): Conv2d(64, 64, kernel_size=(3, 3), stride=(1, 1), padding=(1, 1))\n",
            "    (3): ReLU(inplace=True)\n",
            "    (4): MaxPool2d(kernel_size=2, stride=2, padding=0, dilation=1, ceil_mode=False)\n",
            "    (5): Conv2d(64, 128, kernel_size=(3, 3), stride=(1, 1), padding=(1, 1))\n",
            "    (6): ReLU(inplace=True)\n",
            "    (7): Conv2d(128, 128, kernel_size=(3, 3), stride=(1, 1), padding=(1, 1))\n",
            "    (8): ReLU(inplace=True)\n",
            "    (9): MaxPool2d(kernel_size=2, stride=2, padding=0, dilation=1, ceil_mode=False)\n",
            "    (10): Conv2d(128, 256, kernel_size=(3, 3), stride=(1, 1), padding=(1, 1))\n",
            "    (11): ReLU(inplace=True)\n",
            "    (12): Conv2d(256, 256, kernel_size=(3, 3), stride=(1, 1), padding=(1, 1))\n",
            "    (13): ReLU(inplace=True)\n",
            "    (14): Conv2d(256, 256, kernel_size=(3, 3), stride=(1, 1), padding=(1, 1))\n",
            "    (15): ReLU(inplace=True)\n",
            "    (16): MaxPool2d(kernel_size=2, stride=2, padding=0, dilation=1, ceil_mode=False)\n",
            "    (17): Conv2d(256, 512, kernel_size=(3, 3), stride=(1, 1), padding=(1, 1))\n",
            "    (18): ReLU(inplace=True)\n",
            "    (19): Conv2d(512, 512, kernel_size=(3, 3), stride=(1, 1), padding=(1, 1))\n",
            "    (20): ReLU(inplace=True)\n",
            "    (21): Conv2d(512, 512, kernel_size=(3, 3), stride=(1, 1), padding=(1, 1))\n",
            "    (22): ReLU(inplace=True)\n",
            "    (23): MaxPool2d(kernel_size=2, stride=2, padding=0, dilation=1, ceil_mode=False)\n",
            "    (24): Conv2d(512, 512, kernel_size=(3, 3), stride=(1, 1), padding=(1, 1))\n",
            "    (25): ReLU(inplace=True)\n",
            "    (26): Conv2d(512, 512, kernel_size=(3, 3), stride=(1, 1), padding=(1, 1))\n",
            "    (27): ReLU(inplace=True)\n",
            "    (28): Conv2d(512, 512, kernel_size=(3, 3), stride=(1, 1), padding=(1, 1))\n",
            "    (29): ReLU(inplace=True)\n",
            "    (30): MaxPool2d(kernel_size=2, stride=2, padding=0, dilation=1, ceil_mode=False)\n",
            "  )\n",
            "  (avgpool): AdaptiveAvgPool2d(output_size=(7, 7))\n",
            "  (classifier): Sequential(\n",
            "    (0): Linear(in_features=25088, out_features=4096, bias=True)\n",
            "    (1): ReLU(inplace=True)\n",
            "    (2): Dropout(p=0.5, inplace=False)\n",
            "    (3): Linear(in_features=4096, out_features=4096, bias=True)\n",
            "    (4): ReLU(inplace=True)\n",
            "    (5): Dropout(p=0.5, inplace=False)\n",
            "    (6): Linear(in_features=4096, out_features=2, bias=True)\n",
            "  )\n",
            ")\n"
          ]
        }
      ]
    },
    {
      "cell_type": "code",
      "source": [
        "device = torch.device('cuda' if torch.cuda.is_available() else 'cpu')\n",
        "\n",
        "model = model.to(device)"
      ],
      "metadata": {
        "id": "xJKGzasJX3Ch"
      },
      "execution_count": 13,
      "outputs": []
    },
    {
      "cell_type": "code",
      "source": [
        "import matplotlib.pyplot as plt\n",
        "import seaborn as sns\n",
        "from sklearn.metrics import confusion_matrix, roc_curve, auc\n",
        "\n",
        "def plot_confusion_matrix(cm, classes, title='Confusion Matrix'):\n",
        "    plt.figure(figsize=(5, 5))\n",
        "    #cmap = sns.color_palette([\"#7469B6\",\"#D7B26D\" ,\"#AD88C6\", \"#E1AFD1\", \"#FFE6E6\"], as_cmap=True)\n",
        "    sns.heatmap(cm, annot=True, fmt='d', cmap='Pastel1', xticklabels=classes, yticklabels=classes)\n",
        "    plt.title(title)\n",
        "    plt.ylabel('Actual Label')\n",
        "    plt.xlabel('Predicted label')\n",
        "    plt.show()\n",
        "\n",
        "def plot_auc(fpr, tpr, auc_score):\n",
        "    plt.figure(figsize=(5, 5))\n",
        "    plt.plot(fpr, tpr, color='#D20062', lw=2, label=f'AUC = {auc_score:.2f}')\n",
        "    plt.plot([0, 1], [0, 1], color='#D1BB9E', lw=2, linestyle='--')\n",
        "    plt.xlim([0.0, 1.0])\n",
        "    plt.ylim([0.0, 1.05])\n",
        "    plt.xlabel('False Positive Rate')\n",
        "    plt.ylabel('True Positive Rate')\n",
        "    plt.title('Receiver Operating Characteristic')\n",
        "    plt.legend(loc=\"lower right\")\n",
        "    plt.show()"
      ],
      "metadata": {
        "id": "WkmdTn-6YLrG"
      },
      "execution_count": 14,
      "outputs": []
    },
    {
      "cell_type": "code",
      "source": [
        "from sklearn.utils.class_weight import compute_class_weight\n",
        "import numpy as np\n",
        "\n",
        "# Extracting labels from the training dataset\n",
        "train_labels = [label for _, label in train_dataset.samples]\n",
        "\n",
        "# Computing class weights\n",
        "class_weights = compute_class_weight(class_weight='balanced', classes=np.unique(train_labels), y=train_labels)\n",
        "class_weights = torch.FloatTensor(class_weights).to(device)\n",
        "\n",
        "# loss function to include class weights\n",
        "criterion = nn.CrossEntropyLoss(weight=class_weights)\n",
        "\n",
        "# weighted sampler to handle class imbalance\n",
        "class_sample_counts = np.bincount(train_labels)\n",
        "weights = 1. / class_sample_counts\n",
        "samples_weights = weights[train_labels]\n",
        "sampler = WeightedRandomSampler(weights=samples_weights, num_samples=len(samples_weights), replacement=True)\n",
        "\n",
        "#DataLoader with the sampler\n",
        "train_loader = DataLoader(train_dataset, batch_size=batch_size, sampler=sampler, num_workers=2, drop_last=True)"
      ],
      "metadata": {
        "id": "ARz9zYeBYR6F"
      },
      "execution_count": 15,
      "outputs": []
    },
    {
      "cell_type": "code",
      "source": [
        "import torch\n",
        "import torch.optim as optim\n",
        "from torch.cuda.amp import GradScaler, autocast  # ✅ Use torch.cuda.amp\n",
        "from tqdm import tqdm\n",
        "\n",
        "def train(epoch, model, num_epochs, loader, criterion, optimizer, device):\n",
        "    model.train()\n",
        "    correct = 0\n",
        "    total_loss = 0\n",
        "    scaler = GradScaler()\n",
        "\n",
        "    for data, label in tqdm(loader, desc=f'Epoch {epoch}/{num_epochs}', unit='batch'):\n",
        "        data, label = data.to(device), label.to(device)\n",
        "\n",
        "        optimizer.zero_grad()\n",
        "        with autocast():  # ✅ No device argument here\n",
        "            output = model(data)\n",
        "            loss = criterion(output, label)\n",
        "\n",
        "        scaler.scale(loss).backward()\n",
        "        scaler.step(optimizer)\n",
        "        scaler.update()\n",
        "\n",
        "        total_loss += loss.item()\n",
        "        pred = output.argmax(dim=1, keepdim=True)\n",
        "        correct += pred.eq(label.view_as(pred)).sum().item()\n",
        "\n",
        "    accuracy = 100. * correct / len(loader.dataset)\n",
        "    avg_loss = total_loss / len(loader)\n",
        "    print(f'Train Epoch: {epoch} \\tLoss: {avg_loss:.6f} \\tAccuracy: {accuracy:.2f}%')\n",
        "\n",
        "    return avg_loss, accuracy\n"
      ],
      "metadata": {
        "id": "SiwFaOJxYWju"
      },
      "execution_count": 16,
      "outputs": []
    },
    {
      "cell_type": "code",
      "source": [
        "import torch\n",
        "import torch.nn.functional as F\n",
        "from sklearn import metrics\n",
        "import numpy as np\n",
        "from sklearn.metrics import classification_report, confusion_matrix, roc_auc_score, roc_curve, auc\n",
        "from torch.cuda.amp import autocast\n",
        "\n",
        "def validation(model, val_dataloader, criterion, device, plot_metrics=False):\n",
        "    name = 'val'\n",
        "    model.eval()  # Set the model to evaluation mode\n",
        "    val_loss = 0\n",
        "    correct = 0\n",
        "    all_predictions = []\n",
        "    all_targets = []\n",
        "    probabilities = []\n",
        "\n",
        "    with torch.no_grad():  # Ensuring no gradients are computed, saving memory and computation\n",
        "        for data, target in val_dataloader:\n",
        "            data, target = data.to(device), target.to(device)\n",
        "            val_output = model(data)  # Getting model's predictions\n",
        "            loss = criterion(val_output, target)\n",
        "            val_loss += loss.item() * data.size(0)  # Calculate the loss\n",
        "            pred = val_output.argmax(dim=1, keepdim=True)  # Get the index of the max log-probability\n",
        "            all_predictions.extend(pred.cpu().numpy())  # Gets the predicted class for each input\n",
        "            probs = F.softmax(val_output, dim=1).cpu().data.numpy()  # Softmax is used to convert the range of values in an array between 0-1\n",
        "\n",
        "            probabilities.append(probs)\n",
        "            correct += pred.eq(target.view_as(pred)).sum().item()\n",
        "            all_targets.extend(target.cpu().numpy())  # Collect all target labels\n",
        "\n",
        "    all_predictions = np.array(all_predictions)\n",
        "    all_targets = np.array(all_targets)\n",
        "    probabilities = np.vstack(probabilities)\n",
        "\n",
        "    cm = metrics.confusion_matrix(all_targets, all_predictions)\n",
        "    print(\"Confusion Matrix:\\n\", cm)\n",
        "\n",
        "\n",
        "    classification_rep = classification_report(all_targets, all_predictions, target_names=[\"benign\", \"malignant\"])\n",
        "    print(f'Classification Report of Validation:\\n{classification_rep}\\n')\n",
        "\n",
        "    # One-hot encode the labels for AUC computation\n",
        "    num_classes = val_output.shape[1]\n",
        "    label_onehot = np.eye(num_classes)[all_targets.astype(int)]\n",
        "\n",
        "    # Compute ROC curve and AUC\n",
        "    fpr, tpr, thresholds = roc_curve(label_onehot.ravel(), probabilities.ravel())\n",
        "    auc_score = auc(fpr, tpr)\n",
        "\n",
        "    val_loss /= len(val_dataloader.dataset)\n",
        "    accuracy = 100. * correct / len(val_dataloader.dataset)\n",
        "\n",
        "    print('Specificity: {:.4f}, Sensitivity: {:.4f}, AUC: {:.4f}'.format(1 - fpr[0], tpr[0], auc_score))\n",
        "    print('\\nValidation set: Average loss: {:.4f}, Accuracy: {}/{} ({:.2f}%)\\n'.format(\n",
        "            val_loss, correct, len(val_dataloader.dataset), accuracy))\n",
        "\n",
        "    if plot_metrics:\n",
        "        classification_rep = classification_report(all_targets, all_predictions, target_names=[\"benign\", \"malignant\"])\n",
        "        print(f'Classification Report of Validation:\\n{classification_rep}\\n')\n",
        "\n",
        "        print(\"Confusion Matrix of Validation:\\n\")\n",
        "        plot_confusion_matrix(cm, classes=['benign', 'malignant'])\n",
        "        plot_auc(fpr, tpr, auc_score)\n",
        "\n",
        "    return accuracy, val_loss, auc_score"
      ],
      "metadata": {
        "id": "IRhPtx4CYn8j"
      },
      "execution_count": 17,
      "outputs": []
    },
    {
      "cell_type": "code",
      "source": [
        "from sklearn import metrics\n",
        "import numpy as np\n",
        "import torch.nn.functional as F\n",
        "\n",
        "def test(model, test_dataloader, criterion, device):\n",
        "    name = \"test\"\n",
        "    model.eval()  # Set the model to evaluation mode\n",
        "    test_loss = 0\n",
        "    correct = 0\n",
        "    all_predictions = []\n",
        "    all_targets = []\n",
        "    all_probabilities = []\n",
        "\n",
        "    with torch.no_grad():  # Ensuring no gradients are computed, saving memory and computation.\n",
        "        for data, target in test_dataloader:\n",
        "            data, target = data.to(device), target.to(device)\n",
        "\n",
        "            test_output = model(data)  # Getting model's predictions\n",
        "            loss = criterion(test_output, target)\n",
        "            test_loss += loss.item() * data.size(0)  # Calculate the loss\n",
        "            pred = test_output.argmax(dim=1, keepdim=True)  # Get the index of the max log-probability\n",
        "\n",
        "            all_predictions.extend(pred.cpu().numpy())  # Gets the predicted class for each input.\n",
        "            all_targets.extend(target.cpu().numpy())  # Get the true labels\n",
        "            probabilities = F.softmax(test_output, dim=1).cpu().numpy()  # Softmax is used to convert the range of values in an array between 0-1\n",
        "            all_probabilities.extend(probabilities)\n",
        "\n",
        "            correct += pred.eq(target.view_as(pred)).sum().item()\n",
        "\n",
        "    all_predictions = np.array(all_predictions)\n",
        "    all_targets = np.array(all_targets)\n",
        "    all_probabilities = np.array(all_probabilities)\n",
        "\n",
        "    # Classification metrics - accuracy, f1 score\n",
        "    classification_rep = metrics.classification_report(all_targets, all_predictions, target_names=['benign', 'malignant'], digits=4)\n",
        "    print('Classification Report of Test:')\n",
        "    print(classification_rep)\n",
        "\n",
        "    # Compute confusion matrix\n",
        "    cm = metrics.confusion_matrix(all_targets, all_predictions)\n",
        "    print('Confusion Matrix:')\n",
        "    print(cm)\n",
        "    plot_confusion_matrix(cm, ['benign', 'malignant'])\n",
        "\n",
        "    # ROC AUC\n",
        "    num_classes = all_probabilities.shape[1]\n",
        "    label_onehot = np.eye(num_classes)[all_targets.astype(int)]\n",
        "\n",
        "    fpr, tpr, thresholds = roc_curve(label_onehot.ravel(), all_probabilities.ravel())\n",
        "    auc_value = metrics.auc(fpr, tpr)\n",
        "    plot_auc(fpr, tpr, auc_value)\n",
        "\n",
        "    test_loss /= len(test_dataloader.dataset)\n",
        "    accuracy = 100. * correct / len(test_dataloader.dataset)\n",
        "    print('Specificity: {:.4f}, Sensitivity: {:.4f}, AUC: {:.4f}'.format(1 - fpr[0], tpr[0], auc_value))\n",
        "    print('\\n{} set: Average loss: {:.4f}, Accuracy: {}/{} ({:.2f}%)\\n'.format(name, test_loss, correct, len(test_dataloader.dataset), accuracy))\n",
        "\n",
        "    return accuracy, test_loss, auc_value"
      ],
      "metadata": {
        "id": "_Ba7nN1NYsV8"
      },
      "execution_count": 18,
      "outputs": []
    },
    {
      "cell_type": "code",
      "source": [
        "model.to(device)  # here cudu device\n",
        "model = CustomVGG16(num_classes=2).to(device)\n",
        "best_accuracy = 0\n",
        "total_epochs = 20\n",
        "momentum = 0.9\n",
        "no_cuda = False\n",
        "log_interval = 10\n",
        "model_name = \"vgg16\"\n",
        "# Define optimizer and learning rate scheduler\n",
        "optimizer = optim.AdamW(model.parameters(), lr=0.00005, weight_decay=1e-4)\n",
        "scheduler = optim.lr_scheduler.ReduceLROnPlateau(optimizer, mode='min', factor=0.1, patience=5, verbose=True)"
      ],
      "metadata": {
        "colab": {
          "base_uri": "https://localhost:8080/"
        },
        "id": "NveuTwrIYwOL",
        "outputId": "39c7f5de-aca2-4e6e-87b2-52a58eaad607"
      },
      "execution_count": 19,
      "outputs": [
        {
          "output_type": "stream",
          "name": "stderr",
          "text": [
            "/usr/local/lib/python3.11/dist-packages/torchvision/models/_utils.py:208: UserWarning: The parameter 'pretrained' is deprecated since 0.13 and may be removed in the future, please use 'weights' instead.\n",
            "  warnings.warn(\n",
            "/usr/local/lib/python3.11/dist-packages/torchvision/models/_utils.py:223: UserWarning: Arguments other than a weight enum or `None` for 'weights' are deprecated since 0.13 and may be removed in the future. The current behavior is equivalent to passing `weights=VGG16_Weights.IMAGENET1K_V1`. You can also use `weights=VGG16_Weights.DEFAULT` to get the most up-to-date weights.\n",
            "  warnings.warn(msg)\n",
            "/usr/local/lib/python3.11/dist-packages/torch/optim/lr_scheduler.py:62: UserWarning: The verbose parameter is deprecated. Please use get_last_lr() to access the learning rate.\n",
            "  warnings.warn(\n"
          ]
        }
      ]
    },
    {
      "cell_type": "code",
      "source": [
        "import os\n",
        "import torch\n",
        "import torch.nn.functional as F\n",
        "from tqdm import tqdm\n",
        "\n",
        "# Early stopping setup\n",
        "early_stop = EarlyStopping(patience=5, verbose=True)\n",
        "\n",
        "best_accuracy = 0\n",
        "model_save_dir = './VGG16_Model'\n",
        "model_save_dir = f'./{model_name}_Model'\n",
        "if not os.path.exists(model_save_dir):\n",
        "    os.makedirs(model_save_dir)\n",
        "\n",
        "for epoch in range(1, total_epochs + 1):\n",
        "    # Train the model\n",
        "    train_loss, train_acc = train(epoch, model, total_epochs, train_loader, criterion, optimizer, device)\n",
        "\n",
        "    with torch.no_grad():\n",
        "        val_accuracy, val_loss, val_auc = validation(model, val_loader, criterion, device, plot_metrics=False)\n",
        "\n",
        "    # Step the scheduler based on validation loss\n",
        "    scheduler.step(val_loss)\n",
        "\n",
        "    # Save model every 5 epochs\n",
        "    if epoch % 5 == 0:\n",
        "        model_save_path = os.path.join(model_save_dir, f'{model_name}_epoch_{epoch}.pth')\n",
        "        torch.save(model.state_dict(), model_save_path)\n",
        "        print(f'Model saved at epoch {epoch} to {model_save_path}')\n",
        "\n",
        "    if val_auc > best_accuracy:\n",
        "        best_accuracy = val_auc\n",
        "        best_model_path = os.path.join(model_save_dir, f'{model_name}_best.pth')\n",
        "        torch.save(model.state_dict(), best_model_path)\n",
        "        print(f'Best model saved with AUC {best_accuracy:.4f} at epoch {epoch} to {best_model_path}')\n",
        "\n",
        "    early_stop(val_loss, model)\n",
        "    if early_stop.early_stop:\n",
        "        print(\"Early stopping\")\n",
        "        with torch.no_grad():\n",
        "            val_accuracy, val_loss, val_auc = validation(model, val_loader, criterion, device, plot_metrics=True)\n",
        "        break"
      ],
      "metadata": {
        "colab": {
          "base_uri": "https://localhost:8080/",
          "height": 1000
        },
        "id": "oTn68JVHYzYj",
        "outputId": "59868579-c134-4d47-b5fd-25cff603eb5d"
      },
      "execution_count": 21,
      "outputs": [
        {
          "output_type": "stream",
          "name": "stderr",
          "text": [
            "<ipython-input-16-662cc997996a>:10: FutureWarning: `torch.cuda.amp.GradScaler(args...)` is deprecated. Please use `torch.amp.GradScaler('cuda', args...)` instead.\n",
            "  scaler = GradScaler()\n",
            "Epoch 1/25:   0%|          | 0/319 [00:00<?, ?batch/s]<ipython-input-16-662cc997996a>:16: FutureWarning: `torch.cuda.amp.autocast(args...)` is deprecated. Please use `torch.amp.autocast('cuda', args...)` instead.\n",
            "  with autocast():  # ✅ No device argument here\n",
            "Epoch 1/25: 100%|██████████| 319/319 [02:46<00:00,  1.91batch/s]"
          ]
        },
        {
          "output_type": "stream",
          "name": "stdout",
          "text": [
            "Train Epoch: 1 \tLoss: 0.293908 \tAccuracy: 80.79%\n"
          ]
        },
        {
          "output_type": "stream",
          "name": "stderr",
          "text": [
            "\n"
          ]
        },
        {
          "output_type": "stream",
          "name": "stdout",
          "text": [
            "Confusion Matrix:\n",
            " [[ 340   68]\n",
            " [ 264 1312]]\n",
            "Classification Report of Validation:\n",
            "              precision    recall  f1-score   support\n",
            "\n",
            "      benign       0.56      0.83      0.67       408\n",
            "   malignant       0.95      0.83      0.89      1576\n",
            "\n",
            "    accuracy                           0.83      1984\n",
            "   macro avg       0.76      0.83      0.78      1984\n",
            "weighted avg       0.87      0.83      0.84      1984\n",
            "\n",
            "\n",
            "Specificity: 1.0000, Sensitivity: 0.0000, AUC: 0.9194\n",
            "\n",
            "Validation set: Average loss: 0.4493, Accuracy: 1652/1989 (83.06%)\n",
            "\n",
            "Best model saved with AUC 0.9194 at epoch 1 to ./vgg16_Model/vgg16_best.pth\n",
            "Validation loss decreased (inf --> 0.449299). save model\n"
          ]
        },
        {
          "output_type": "stream",
          "name": "stderr",
          "text": [
            "<ipython-input-16-662cc997996a>:10: FutureWarning: `torch.cuda.amp.GradScaler(args...)` is deprecated. Please use `torch.amp.GradScaler('cuda', args...)` instead.\n",
            "  scaler = GradScaler()\n",
            "Epoch 2/25:   0%|          | 0/319 [00:00<?, ?batch/s]<ipython-input-16-662cc997996a>:16: FutureWarning: `torch.cuda.amp.autocast(args...)` is deprecated. Please use `torch.amp.autocast('cuda', args...)` instead.\n",
            "  with autocast():  # ✅ No device argument here\n",
            "Epoch 2/25: 100%|██████████| 319/319 [02:46<00:00,  1.92batch/s]"
          ]
        },
        {
          "output_type": "stream",
          "name": "stdout",
          "text": [
            "Train Epoch: 2 \tLoss: 0.295218 \tAccuracy: 80.58%\n"
          ]
        },
        {
          "output_type": "stream",
          "name": "stderr",
          "text": [
            "\n"
          ]
        },
        {
          "output_type": "stream",
          "name": "stdout",
          "text": [
            "Confusion Matrix:\n",
            " [[ 340   68]\n",
            " [ 259 1317]]\n",
            "Classification Report of Validation:\n",
            "              precision    recall  f1-score   support\n",
            "\n",
            "      benign       0.57      0.83      0.68       408\n",
            "   malignant       0.95      0.84      0.89      1576\n",
            "\n",
            "    accuracy                           0.84      1984\n",
            "   macro avg       0.76      0.83      0.78      1984\n",
            "weighted avg       0.87      0.84      0.85      1984\n",
            "\n",
            "\n",
            "Specificity: 1.0000, Sensitivity: 0.0000, AUC: 0.9202\n",
            "\n",
            "Validation set: Average loss: 0.4469, Accuracy: 1657/1989 (83.31%)\n",
            "\n",
            "Best model saved with AUC 0.9202 at epoch 2 to ./vgg16_Model/vgg16_best.pth\n",
            "Validation loss decreased (0.449299 --> 0.446950). save model\n"
          ]
        },
        {
          "output_type": "stream",
          "name": "stderr",
          "text": [
            "<ipython-input-16-662cc997996a>:10: FutureWarning: `torch.cuda.amp.GradScaler(args...)` is deprecated. Please use `torch.amp.GradScaler('cuda', args...)` instead.\n",
            "  scaler = GradScaler()\n",
            "Epoch 3/25:   0%|          | 0/319 [00:00<?, ?batch/s]<ipython-input-16-662cc997996a>:16: FutureWarning: `torch.cuda.amp.autocast(args...)` is deprecated. Please use `torch.amp.autocast('cuda', args...)` instead.\n",
            "  with autocast():  # ✅ No device argument here\n",
            "Epoch 3/25: 100%|██████████| 319/319 [02:47<00:00,  1.91batch/s]"
          ]
        },
        {
          "output_type": "stream",
          "name": "stdout",
          "text": [
            "Train Epoch: 3 \tLoss: 0.295122 \tAccuracy: 80.85%\n"
          ]
        },
        {
          "output_type": "stream",
          "name": "stderr",
          "text": [
            "\n",
            "<ipython-input-16-662cc997996a>:10: FutureWarning: `torch.cuda.amp.GradScaler(args...)` is deprecated. Please use `torch.amp.GradScaler('cuda', args...)` instead.\n",
            "  scaler = GradScaler()\n"
          ]
        },
        {
          "output_type": "stream",
          "name": "stdout",
          "text": [
            "Confusion Matrix:\n",
            " [[ 341   67]\n",
            " [ 263 1313]]\n",
            "Classification Report of Validation:\n",
            "              precision    recall  f1-score   support\n",
            "\n",
            "      benign       0.56      0.84      0.67       408\n",
            "   malignant       0.95      0.83      0.89      1576\n",
            "\n",
            "    accuracy                           0.83      1984\n",
            "   macro avg       0.76      0.83      0.78      1984\n",
            "weighted avg       0.87      0.83      0.84      1984\n",
            "\n",
            "\n",
            "Specificity: 1.0000, Sensitivity: 0.0000, AUC: 0.9192\n",
            "\n",
            "Validation set: Average loss: 0.4512, Accuracy: 1654/1989 (83.16%)\n",
            "\n",
            "EarlyStopping counter: 1 out of 5\n"
          ]
        },
        {
          "output_type": "stream",
          "name": "stderr",
          "text": [
            "\rEpoch 4/25:   0%|          | 0/319 [00:00<?, ?batch/s]<ipython-input-16-662cc997996a>:16: FutureWarning: `torch.cuda.amp.autocast(args...)` is deprecated. Please use `torch.amp.autocast('cuda', args...)` instead.\n",
            "  with autocast():  # ✅ No device argument here\n",
            "Epoch 4/25: 100%|██████████| 319/319 [02:46<00:00,  1.91batch/s]"
          ]
        },
        {
          "output_type": "stream",
          "name": "stdout",
          "text": [
            "Train Epoch: 4 \tLoss: 0.295654 \tAccuracy: 80.72%\n"
          ]
        },
        {
          "output_type": "stream",
          "name": "stderr",
          "text": [
            "\n",
            "<ipython-input-16-662cc997996a>:10: FutureWarning: `torch.cuda.amp.GradScaler(args...)` is deprecated. Please use `torch.amp.GradScaler('cuda', args...)` instead.\n",
            "  scaler = GradScaler()\n"
          ]
        },
        {
          "output_type": "stream",
          "name": "stdout",
          "text": [
            "Confusion Matrix:\n",
            " [[ 341   67]\n",
            " [ 260 1316]]\n",
            "Classification Report of Validation:\n",
            "              precision    recall  f1-score   support\n",
            "\n",
            "      benign       0.57      0.84      0.68       408\n",
            "   malignant       0.95      0.84      0.89      1576\n",
            "\n",
            "    accuracy                           0.84      1984\n",
            "   macro avg       0.76      0.84      0.78      1984\n",
            "weighted avg       0.87      0.84      0.85      1984\n",
            "\n",
            "\n",
            "Specificity: 1.0000, Sensitivity: 0.0000, AUC: 0.9201\n",
            "\n",
            "Validation set: Average loss: 0.4472, Accuracy: 1657/1989 (83.31%)\n",
            "\n",
            "EarlyStopping counter: 2 out of 5\n"
          ]
        },
        {
          "output_type": "stream",
          "name": "stderr",
          "text": [
            "\rEpoch 5/25:   0%|          | 0/319 [00:00<?, ?batch/s]<ipython-input-16-662cc997996a>:16: FutureWarning: `torch.cuda.amp.autocast(args...)` is deprecated. Please use `torch.amp.autocast('cuda', args...)` instead.\n",
            "  with autocast():  # ✅ No device argument here\n",
            "Epoch 5/25: 100%|██████████| 319/319 [02:45<00:00,  1.93batch/s]"
          ]
        },
        {
          "output_type": "stream",
          "name": "stdout",
          "text": [
            "Train Epoch: 5 \tLoss: 0.305065 \tAccuracy: 79.91%\n"
          ]
        },
        {
          "output_type": "stream",
          "name": "stderr",
          "text": [
            "\n"
          ]
        },
        {
          "output_type": "stream",
          "name": "stdout",
          "text": [
            "Confusion Matrix:\n",
            " [[ 340   68]\n",
            " [ 256 1320]]\n",
            "Classification Report of Validation:\n",
            "              precision    recall  f1-score   support\n",
            "\n",
            "      benign       0.57      0.83      0.68       408\n",
            "   malignant       0.95      0.84      0.89      1576\n",
            "\n",
            "    accuracy                           0.84      1984\n",
            "   macro avg       0.76      0.84      0.78      1984\n",
            "weighted avg       0.87      0.84      0.85      1984\n",
            "\n",
            "\n",
            "Specificity: 1.0000, Sensitivity: 0.0000, AUC: 0.9212\n",
            "\n",
            "Validation set: Average loss: 0.4425, Accuracy: 1660/1989 (83.46%)\n",
            "\n",
            "Model saved at epoch 5 to ./vgg16_Model/vgg16_epoch_5.pth\n",
            "Best model saved with AUC 0.9212 at epoch 5 to ./vgg16_Model/vgg16_best.pth\n",
            "Validation loss decreased (0.446950 --> 0.442512). save model\n"
          ]
        },
        {
          "output_type": "stream",
          "name": "stderr",
          "text": [
            "<ipython-input-16-662cc997996a>:10: FutureWarning: `torch.cuda.amp.GradScaler(args...)` is deprecated. Please use `torch.amp.GradScaler('cuda', args...)` instead.\n",
            "  scaler = GradScaler()\n",
            "Epoch 6/25:   0%|          | 0/319 [00:00<?, ?batch/s]<ipython-input-16-662cc997996a>:16: FutureWarning: `torch.cuda.amp.autocast(args...)` is deprecated. Please use `torch.amp.autocast('cuda', args...)` instead.\n",
            "  with autocast():  # ✅ No device argument here\n",
            "Epoch 6/25: 100%|██████████| 319/319 [02:47<00:00,  1.90batch/s]"
          ]
        },
        {
          "output_type": "stream",
          "name": "stdout",
          "text": [
            "Train Epoch: 6 \tLoss: 0.293895 \tAccuracy: 80.69%\n"
          ]
        },
        {
          "output_type": "stream",
          "name": "stderr",
          "text": [
            "\n"
          ]
        },
        {
          "output_type": "stream",
          "name": "stdout",
          "text": [
            "Confusion Matrix:\n",
            " [[ 340   68]\n",
            " [ 253 1323]]\n",
            "Classification Report of Validation:\n",
            "              precision    recall  f1-score   support\n",
            "\n",
            "      benign       0.57      0.83      0.68       408\n",
            "   malignant       0.95      0.84      0.89      1576\n",
            "\n",
            "    accuracy                           0.84      1984\n",
            "   macro avg       0.76      0.84      0.79      1984\n",
            "weighted avg       0.87      0.84      0.85      1984\n",
            "\n",
            "\n",
            "Specificity: 1.0000, Sensitivity: 0.0000, AUC: 0.9216\n",
            "\n",
            "Validation set: Average loss: 0.4407, Accuracy: 1663/1989 (83.61%)\n",
            "\n",
            "Best model saved with AUC 0.9216 at epoch 6 to ./vgg16_Model/vgg16_best.pth\n",
            "Validation loss decreased (0.442512 --> 0.440688). save model\n"
          ]
        },
        {
          "output_type": "stream",
          "name": "stderr",
          "text": [
            "<ipython-input-16-662cc997996a>:10: FutureWarning: `torch.cuda.amp.GradScaler(args...)` is deprecated. Please use `torch.amp.GradScaler('cuda', args...)` instead.\n",
            "  scaler = GradScaler()\n",
            "Epoch 7/25:   0%|          | 0/319 [00:00<?, ?batch/s]<ipython-input-16-662cc997996a>:16: FutureWarning: `torch.cuda.amp.autocast(args...)` is deprecated. Please use `torch.amp.autocast('cuda', args...)` instead.\n",
            "  with autocast():  # ✅ No device argument here\n",
            "Epoch 7/25: 100%|██████████| 319/319 [02:47<00:00,  1.90batch/s]"
          ]
        },
        {
          "output_type": "stream",
          "name": "stdout",
          "text": [
            "Train Epoch: 7 \tLoss: 0.298877 \tAccuracy: 80.63%\n"
          ]
        },
        {
          "output_type": "stream",
          "name": "stderr",
          "text": [
            "\n",
            "<ipython-input-16-662cc997996a>:10: FutureWarning: `torch.cuda.amp.GradScaler(args...)` is deprecated. Please use `torch.amp.GradScaler('cuda', args...)` instead.\n",
            "  scaler = GradScaler()\n"
          ]
        },
        {
          "output_type": "stream",
          "name": "stdout",
          "text": [
            "Confusion Matrix:\n",
            " [[ 340   68]\n",
            " [ 253 1323]]\n",
            "Classification Report of Validation:\n",
            "              precision    recall  f1-score   support\n",
            "\n",
            "      benign       0.57      0.83      0.68       408\n",
            "   malignant       0.95      0.84      0.89      1576\n",
            "\n",
            "    accuracy                           0.84      1984\n",
            "   macro avg       0.76      0.84      0.79      1984\n",
            "weighted avg       0.87      0.84      0.85      1984\n",
            "\n",
            "\n",
            "Specificity: 1.0000, Sensitivity: 0.0000, AUC: 0.9216\n",
            "\n",
            "Validation set: Average loss: 0.4410, Accuracy: 1663/1989 (83.61%)\n",
            "\n",
            "EarlyStopping counter: 1 out of 5\n"
          ]
        },
        {
          "output_type": "stream",
          "name": "stderr",
          "text": [
            "\rEpoch 8/25:   0%|          | 0/319 [00:00<?, ?batch/s]<ipython-input-16-662cc997996a>:16: FutureWarning: `torch.cuda.amp.autocast(args...)` is deprecated. Please use `torch.amp.autocast('cuda', args...)` instead.\n",
            "  with autocast():  # ✅ No device argument here\n",
            "Epoch 8/25: 100%|██████████| 319/319 [02:47<00:00,  1.90batch/s]"
          ]
        },
        {
          "output_type": "stream",
          "name": "stdout",
          "text": [
            "Train Epoch: 8 \tLoss: 0.300222 \tAccuracy: 80.70%\n"
          ]
        },
        {
          "output_type": "stream",
          "name": "stderr",
          "text": [
            "\n",
            "<ipython-input-16-662cc997996a>:10: FutureWarning: `torch.cuda.amp.GradScaler(args...)` is deprecated. Please use `torch.amp.GradScaler('cuda', args...)` instead.\n",
            "  scaler = GradScaler()\n"
          ]
        },
        {
          "output_type": "stream",
          "name": "stdout",
          "text": [
            "Confusion Matrix:\n",
            " [[ 340   68]\n",
            " [ 255 1321]]\n",
            "Classification Report of Validation:\n",
            "              precision    recall  f1-score   support\n",
            "\n",
            "      benign       0.57      0.83      0.68       408\n",
            "   malignant       0.95      0.84      0.89      1576\n",
            "\n",
            "    accuracy                           0.84      1984\n",
            "   macro avg       0.76      0.84      0.78      1984\n",
            "weighted avg       0.87      0.84      0.85      1984\n",
            "\n",
            "\n",
            "Specificity: 1.0000, Sensitivity: 0.0000, AUC: 0.9215\n",
            "\n",
            "Validation set: Average loss: 0.4411, Accuracy: 1661/1989 (83.51%)\n",
            "\n",
            "EarlyStopping counter: 2 out of 5\n"
          ]
        },
        {
          "output_type": "stream",
          "name": "stderr",
          "text": [
            "\rEpoch 9/25:   0%|          | 0/319 [00:00<?, ?batch/s]<ipython-input-16-662cc997996a>:16: FutureWarning: `torch.cuda.amp.autocast(args...)` is deprecated. Please use `torch.amp.autocast('cuda', args...)` instead.\n",
            "  with autocast():  # ✅ No device argument here\n",
            "Epoch 9/25: 100%|██████████| 319/319 [02:46<00:00,  1.91batch/s]"
          ]
        },
        {
          "output_type": "stream",
          "name": "stdout",
          "text": [
            "Train Epoch: 9 \tLoss: 0.299283 \tAccuracy: 80.64%\n"
          ]
        },
        {
          "output_type": "stream",
          "name": "stderr",
          "text": [
            "\n",
            "<ipython-input-16-662cc997996a>:10: FutureWarning: `torch.cuda.amp.GradScaler(args...)` is deprecated. Please use `torch.amp.GradScaler('cuda', args...)` instead.\n",
            "  scaler = GradScaler()\n"
          ]
        },
        {
          "output_type": "stream",
          "name": "stdout",
          "text": [
            "Confusion Matrix:\n",
            " [[ 340   68]\n",
            " [ 256 1320]]\n",
            "Classification Report of Validation:\n",
            "              precision    recall  f1-score   support\n",
            "\n",
            "      benign       0.57      0.83      0.68       408\n",
            "   malignant       0.95      0.84      0.89      1576\n",
            "\n",
            "    accuracy                           0.84      1984\n",
            "   macro avg       0.76      0.84      0.78      1984\n",
            "weighted avg       0.87      0.84      0.85      1984\n",
            "\n",
            "\n",
            "Specificity: 1.0000, Sensitivity: 0.0000, AUC: 0.9215\n",
            "\n",
            "Validation set: Average loss: 0.4412, Accuracy: 1660/1989 (83.46%)\n",
            "\n",
            "EarlyStopping counter: 3 out of 5\n"
          ]
        },
        {
          "output_type": "stream",
          "name": "stderr",
          "text": [
            "\rEpoch 10/25:   0%|          | 0/319 [00:00<?, ?batch/s]<ipython-input-16-662cc997996a>:16: FutureWarning: `torch.cuda.amp.autocast(args...)` is deprecated. Please use `torch.amp.autocast('cuda', args...)` instead.\n",
            "  with autocast():  # ✅ No device argument here\n",
            "Epoch 10/25: 100%|██████████| 319/319 [02:47<00:00,  1.91batch/s]"
          ]
        },
        {
          "output_type": "stream",
          "name": "stdout",
          "text": [
            "Train Epoch: 10 \tLoss: 0.295535 \tAccuracy: 80.78%\n"
          ]
        },
        {
          "output_type": "stream",
          "name": "stderr",
          "text": [
            "\n"
          ]
        },
        {
          "output_type": "stream",
          "name": "stdout",
          "text": [
            "Confusion Matrix:\n",
            " [[ 340   68]\n",
            " [ 256 1320]]\n",
            "Classification Report of Validation:\n",
            "              precision    recall  f1-score   support\n",
            "\n",
            "      benign       0.57      0.83      0.68       408\n",
            "   malignant       0.95      0.84      0.89      1576\n",
            "\n",
            "    accuracy                           0.84      1984\n",
            "   macro avg       0.76      0.84      0.78      1984\n",
            "weighted avg       0.87      0.84      0.85      1984\n",
            "\n",
            "\n",
            "Specificity: 1.0000, Sensitivity: 0.0000, AUC: 0.9215\n",
            "\n",
            "Validation set: Average loss: 0.4412, Accuracy: 1660/1989 (83.46%)\n",
            "\n"
          ]
        },
        {
          "output_type": "stream",
          "name": "stderr",
          "text": [
            "<ipython-input-16-662cc997996a>:10: FutureWarning: `torch.cuda.amp.GradScaler(args...)` is deprecated. Please use `torch.amp.GradScaler('cuda', args...)` instead.\n",
            "  scaler = GradScaler()\n"
          ]
        },
        {
          "output_type": "stream",
          "name": "stdout",
          "text": [
            "Model saved at epoch 10 to ./vgg16_Model/vgg16_epoch_10.pth\n",
            "EarlyStopping counter: 4 out of 5\n"
          ]
        },
        {
          "output_type": "stream",
          "name": "stderr",
          "text": [
            "\rEpoch 11/25:   0%|          | 0/319 [00:00<?, ?batch/s]<ipython-input-16-662cc997996a>:16: FutureWarning: `torch.cuda.amp.autocast(args...)` is deprecated. Please use `torch.amp.autocast('cuda', args...)` instead.\n",
            "  with autocast():  # ✅ No device argument here\n",
            "Epoch 11/25: 100%|██████████| 319/319 [02:47<00:00,  1.90batch/s]"
          ]
        },
        {
          "output_type": "stream",
          "name": "stdout",
          "text": [
            "Train Epoch: 11 \tLoss: 0.298943 \tAccuracy: 80.58%\n"
          ]
        },
        {
          "output_type": "stream",
          "name": "stderr",
          "text": [
            "\n"
          ]
        },
        {
          "output_type": "stream",
          "name": "stdout",
          "text": [
            "Confusion Matrix:\n",
            " [[ 340   68]\n",
            " [ 256 1320]]\n",
            "Classification Report of Validation:\n",
            "              precision    recall  f1-score   support\n",
            "\n",
            "      benign       0.57      0.83      0.68       408\n",
            "   malignant       0.95      0.84      0.89      1576\n",
            "\n",
            "    accuracy                           0.84      1984\n",
            "   macro avg       0.76      0.84      0.78      1984\n",
            "weighted avg       0.87      0.84      0.85      1984\n",
            "\n",
            "\n",
            "Specificity: 1.0000, Sensitivity: 0.0000, AUC: 0.9214\n",
            "\n",
            "Validation set: Average loss: 0.4413, Accuracy: 1660/1989 (83.46%)\n",
            "\n",
            "EarlyStopping counter: 5 out of 5\n",
            "Early stopping\n",
            "Confusion Matrix:\n",
            " [[ 340   68]\n",
            " [ 256 1320]]\n",
            "Classification Report of Validation:\n",
            "              precision    recall  f1-score   support\n",
            "\n",
            "      benign       0.57      0.83      0.68       408\n",
            "   malignant       0.95      0.84      0.89      1576\n",
            "\n",
            "    accuracy                           0.84      1984\n",
            "   macro avg       0.76      0.84      0.78      1984\n",
            "weighted avg       0.87      0.84      0.85      1984\n",
            "\n",
            "\n",
            "Specificity: 1.0000, Sensitivity: 0.0000, AUC: 0.9214\n",
            "\n",
            "Validation set: Average loss: 0.4413, Accuracy: 1660/1989 (83.46%)\n",
            "\n",
            "Classification Report of Validation:\n",
            "              precision    recall  f1-score   support\n",
            "\n",
            "      benign       0.57      0.83      0.68       408\n",
            "   malignant       0.95      0.84      0.89      1576\n",
            "\n",
            "    accuracy                           0.84      1984\n",
            "   macro avg       0.76      0.84      0.78      1984\n",
            "weighted avg       0.87      0.84      0.85      1984\n",
            "\n",
            "\n",
            "Confusion Matrix of Validation:\n",
            "\n"
          ]
        },
        {
          "output_type": "display_data",
          "data": {
            "text/plain": [
              "<Figure size 500x500 with 2 Axes>"
            ],
            "image/png": "[encoded data removed]"
          },
          "metadata": {}
        },
        {
          "output_type": "display_data",
          "data": {
            "text/plain": [
              "<Figure size 500x500 with 1 Axes>"
            ],
            "image/png": "[encoded data removed]"
          },
          "metadata": {}
        }
      ]
    },
    {
      "cell_type": "code",
      "source": [
        "  # Evaluating the model on the test dataset\n",
        "print(\"Testing the model on the test dataset\")\n",
        "test_accuracy, test_loss, test_auc = test(model, test_loader, criterion, device)"
      ],
      "metadata": {
        "colab": {
          "base_uri": "https://localhost:8080/",
          "height": 1000
        },
        "id": "4PARUKj-VJCj",
        "outputId": "6da84017-42eb-403b-84c2-77b64f8c85ee"
      },
      "execution_count": 22,
      "outputs": [
        {
          "output_type": "stream",
          "name": "stdout",
          "text": [
            "Testing the model on the test dataset\n",
            "Classification Report of Test:\n",
            "              precision    recall  f1-score   support\n",
            "\n",
            "      benign     0.6613    0.6115    0.6354      1938\n",
            "   malignant     0.8511    0.8764    0.8635      4910\n",
            "\n",
            "    accuracy                         0.8014      6848\n",
            "   macro avg     0.7562    0.7439    0.7495      6848\n",
            "weighted avg     0.7974    0.8014    0.7990      6848\n",
            "\n",
            "Confusion Matrix:\n",
            "[[1185  753]\n",
            " [ 607 4303]]\n"
          ]
        },
        {
          "output_type": "display_data",
          "data": {
            "text/plain": [
              "<Figure size 500x500 with 2 Axes>"
            ],
            "image/png": "[encoded data removed]"
          },
          "metadata": {}
        },
        {
          "output_type": "display_data",
          "data": {
            "text/plain": [
              "<Figure size 500x500 with 1 Axes>"
            ],
            "image/png": "[encoded data removed]"
          },
          "metadata": {}
        },
        {
          "output_type": "stream",
          "name": "stdout",
          "text": [
            "Specificity: 1.0000, Sensitivity: 0.0000, AUC: 0.8660\n",
            "\n",
            "test set: Average loss: 0.8659, Accuracy: 5488/6851 (80.11%)\n",
            "\n"
          ]
        }
      ]
    },
    {
      "cell_type": "code",
      "source": [
        "!nvidia-smi\n"
      ],
      "metadata": {
        "colab": {
          "base_uri": "https://localhost:8080/"
        },
        "id": "HMkJJfxYQ4SU",
        "outputId": "d3d5a357-ab31-492b-b5ed-3069d20b997a"
      },
      "execution_count": null,
      "outputs": [
        {
          "output_type": "stream",
          "name": "stdout",
          "text": [
            "Sun Apr  6 09:16:05 2025       \n",
            "+-----------------------------------------------------------------------------------------+\n",
            "| NVIDIA-SMI 550.54.15              Driver Version: 550.54.15      CUDA Version: 12.4     |\n",
            "|-----------------------------------------+------------------------+----------------------+\n",
            "| GPU  Name                 Persistence-M | Bus-Id          Disp.A | Volatile Uncorr. ECC |\n",
            "| Fan  Temp   Perf          Pwr:Usage/Cap |           Memory-Usage | GPU-Util  Compute M. |\n",
            "|                                         |                        |               MIG M. |\n",
            "|=========================================+========================+======================|\n",
            "|   0  Tesla T4                       Off |   00000000:00:04.0 Off |                    0 |\n",
            "| N/A   77C    P0             33W /   70W |   14520MiB /  15360MiB |      0%      Default |\n",
            "|                                         |                        |                  N/A |\n",
            "+-----------------------------------------+------------------------+----------------------+\n",
            "                                                                                         \n",
            "+-----------------------------------------------------------------------------------------+\n",
            "| Processes:                                                                              |\n",
            "|  GPU   GI   CI        PID   Type   Process name                              GPU Memory |\n",
            "|        ID   ID                                                               Usage      |\n",
            "|=========================================================================================|\n",
            "+-----------------------------------------------------------------------------------------+\n"
          ]
        }
      ]
    },
    {
      "cell_type": "code",
      "source": [
        "print(next(model.parameters()).device)  # Should show \"cuda:0\"\n"
      ],
      "metadata": {
        "colab": {
          "base_uri": "https://localhost:8080/"
        },
        "id": "DBbc2iGiRxAM",
        "outputId": "687979c1-8ce2-4430-ec50-63f77da55815"
      },
      "execution_count": null,
      "outputs": [
        {
          "output_type": "stream",
          "name": "stdout",
          "text": [
            "cuda:0\n"
          ]
        }
      ]
    },
    {
      "cell_type": "code",
      "source": [
        "pip install gradio"
      ],
      "metadata": {
        "id": "OGyl0QjuSJtm",
        "colab": {
          "base_uri": "https://localhost:8080/"
        },
        "outputId": "8afa2220-60b6-420e-b38d-ac281b726f3f"
      },
      "execution_count": 23,
      "outputs": [
        {
          "output_type": "stream",
          "name": "stdout",
          "text": [
            "Collecting gradio\n",
            "  Downloading gradio-5.24.0-py3-none-any.whl.metadata (16 kB)\n",
            "Collecting aiofiles<25.0,>=22.0 (from gradio)\n",
            "  Downloading aiofiles-24.1.0-py3-none-any.whl.metadata (10 kB)\n",
            "Requirement already satisfied: anyio<5.0,>=3.0 in /usr/local/lib/python3.11/dist-packages (from gradio) (4.9.0)\n",
            "Collecting fastapi<1.0,>=0.115.2 (from gradio)\n",
            "  Downloading fastapi-0.115.12-py3-none-any.whl.metadata (27 kB)\n",
            "Collecting ffmpy (from gradio)\n",
            "  Downloading ffmpy-0.5.0-py3-none-any.whl.metadata (3.0 kB)\n",
            "Collecting gradio-client==1.8.0 (from gradio)\n",
            "  Downloading gradio_client-1.8.0-py3-none-any.whl.metadata (7.1 kB)\n",
            "Collecting groovy~=0.1 (from gradio)\n",
            "  Downloading groovy-0.1.2-py3-none-any.whl.metadata (6.1 kB)\n",
            "Requirement already satisfied: httpx>=0.24.1 in /usr/local/lib/python3.11/dist-packages (from gradio) (0.28.1)\n",
            "Requirement already satisfied: huggingface-hub>=0.28.1 in /usr/local/lib/python3.11/dist-packages (from gradio) (0.30.1)\n",
            "Requirement already satisfied: jinja2<4.0 in /usr/local/lib/python3.11/dist-packages (from gradio) (3.1.6)\n",
            "Requirement already satisfied: markupsafe<4.0,>=2.0 in /usr/local/lib/python3.11/dist-packages (from gradio) (3.0.2)\n",
            "Requirement already satisfied: numpy<3.0,>=1.0 in /usr/local/lib/python3.11/dist-packages (from gradio) (2.0.2)\n",
            "Requirement already satisfied: orjson~=3.0 in /usr/local/lib/python3.11/dist-packages (from gradio) (3.10.16)\n",
            "Requirement already satisfied: packaging in /usr/local/lib/python3.11/dist-packages (from gradio) (24.2)\n",
            "Requirement already satisfied: pandas<3.0,>=1.0 in /usr/local/lib/python3.11/dist-packages (from gradio) (2.2.2)\n",
            "Requirement already satisfied: pillow<12.0,>=8.0 in /usr/local/lib/python3.11/dist-packages (from gradio) (11.1.0)\n",
            "Requirement already satisfied: pydantic<2.12,>=2.0 in /usr/local/lib/python3.11/dist-packages (from gradio) (2.11.2)\n",
            "Collecting pydub (from gradio)\n",
            "  Downloading pydub-0.25.1-py2.py3-none-any.whl.metadata (1.4 kB)\n",
            "Collecting python-multipart>=0.0.18 (from gradio)\n",
            "  Downloading python_multipart-0.0.20-py3-none-any.whl.metadata (1.8 kB)\n",
            "Requirement already satisfied: pyyaml<7.0,>=5.0 in /usr/local/lib/python3.11/dist-packages (from gradio) (6.0.2)\n",
            "Collecting ruff>=0.9.3 (from gradio)\n",
            "  Downloading ruff-0.11.5-py3-none-manylinux_2_17_x86_64.manylinux2014_x86_64.whl.metadata (25 kB)\n",
            "Collecting safehttpx<0.2.0,>=0.1.6 (from gradio)\n",
            "  Downloading safehttpx-0.1.6-py3-none-any.whl.metadata (4.2 kB)\n",
            "Collecting semantic-version~=2.0 (from gradio)\n",
            "  Downloading semantic_version-2.10.0-py2.py3-none-any.whl.metadata (9.7 kB)\n",
            "Collecting starlette<1.0,>=0.40.0 (from gradio)\n",
            "  Downloading starlette-0.46.1-py3-none-any.whl.metadata (6.2 kB)\n",
            "Collecting tomlkit<0.14.0,>=0.12.0 (from gradio)\n",
            "  Downloading tomlkit-0.13.2-py3-none-any.whl.metadata (2.7 kB)\n",
            "Requirement already satisfied: typer<1.0,>=0.12 in /usr/local/lib/python3.11/dist-packages (from gradio) (0.15.2)\n",
            "Requirement already satisfied: typing-extensions~=4.0 in /usr/local/lib/python3.11/dist-packages (from gradio) (4.13.1)\n",
            "Collecting uvicorn>=0.14.0 (from gradio)\n",
            "  Downloading uvicorn-0.34.0-py3-none-any.whl.metadata (6.5 kB)\n",
            "Requirement already satisfied: fsspec in /usr/local/lib/python3.11/dist-packages (from gradio-client==1.8.0->gradio) (2025.3.2)\n",
            "Requirement already satisfied: websockets<16.0,>=10.0 in /usr/local/lib/python3.11/dist-packages (from gradio-client==1.8.0->gradio) (15.0.1)\n",
            "Requirement already satisfied: idna>=2.8 in /usr/local/lib/python3.11/dist-packages (from anyio<5.0,>=3.0->gradio) (3.10)\n",
            "Requirement already satisfied: sniffio>=1.1 in /usr/local/lib/python3.11/dist-packages (from anyio<5.0,>=3.0->gradio) (1.3.1)\n",
            "Requirement already satisfied: certifi in /usr/local/lib/python3.11/dist-packages (from httpx>=0.24.1->gradio) (2025.1.31)\n",
            "Requirement already satisfied: httpcore==1.* in /usr/local/lib/python3.11/dist-packages (from httpx>=0.24.1->gradio) (1.0.7)\n",
            "Requirement already satisfied: h11<0.15,>=0.13 in /usr/local/lib/python3.11/dist-packages (from httpcore==1.*->httpx>=0.24.1->gradio) (0.14.0)\n",
            "Requirement already satisfied: filelock in /usr/local/lib/python3.11/dist-packages (from huggingface-hub>=0.28.1->gradio) (3.18.0)\n",
            "Requirement already satisfied: requests in /usr/local/lib/python3.11/dist-packages (from huggingface-hub>=0.28.1->gradio) (2.32.3)\n",
            "Requirement already satisfied: tqdm>=4.42.1 in /usr/local/lib/python3.11/dist-packages (from huggingface-hub>=0.28.1->gradio) (4.67.1)\n",
            "Requirement already satisfied: python-dateutil>=2.8.2 in /usr/local/lib/python3.11/dist-packages (from pandas<3.0,>=1.0->gradio) (2.8.2)\n",
            "Requirement already satisfied: pytz>=2020.1 in /usr/local/lib/python3.11/dist-packages (from pandas<3.0,>=1.0->gradio) (2025.2)\n",
            "Requirement already satisfied: tzdata>=2022.7 in /usr/local/lib/python3.11/dist-packages (from pandas<3.0,>=1.0->gradio) (2025.2)\n",
            "Requirement already satisfied: annotated-types>=0.6.0 in /usr/local/lib/python3.11/dist-packages (from pydantic<2.12,>=2.0->gradio) (0.7.0)\n",
            "Requirement already satisfied: pydantic-core==2.33.1 in /usr/local/lib/python3.11/dist-packages (from pydantic<2.12,>=2.0->gradio) (2.33.1)\n",
            "Requirement already satisfied: typing-inspection>=0.4.0 in /usr/local/lib/python3.11/dist-packages (from pydantic<2.12,>=2.0->gradio) (0.4.0)\n",
            "Requirement already satisfied: click>=8.0.0 in /usr/local/lib/python3.11/dist-packages (from typer<1.0,>=0.12->gradio) (8.1.8)\n",
            "Requirement already satisfied: shellingham>=1.3.0 in /usr/local/lib/python3.11/dist-packages (from typer<1.0,>=0.12->gradio) (1.5.4)\n",
            "Requirement already satisfied: rich>=10.11.0 in /usr/local/lib/python3.11/dist-packages (from typer<1.0,>=0.12->gradio) (13.9.4)\n",
            "Requirement already satisfied: six>=1.5 in /usr/local/lib/python3.11/dist-packages (from python-dateutil>=2.8.2->pandas<3.0,>=1.0->gradio) (1.17.0)\n",
            "Requirement already satisfied: markdown-it-py>=2.2.0 in /usr/local/lib/python3.11/dist-packages (from rich>=10.11.0->typer<1.0,>=0.12->gradio) (3.0.0)\n",
            "Requirement already satisfied: pygments<3.0.0,>=2.13.0 in /usr/local/lib/python3.11/dist-packages (from rich>=10.11.0->typer<1.0,>=0.12->gradio) (2.18.0)\n",
            "Requirement already satisfied: charset-normalizer<4,>=2 in /usr/local/lib/python3.11/dist-packages (from requests->huggingface-hub>=0.28.1->gradio) (3.4.1)\n",
            "Requirement already satisfied: urllib3<3,>=1.21.1 in /usr/local/lib/python3.11/dist-packages (from requests->huggingface-hub>=0.28.1->gradio) (2.3.0)\n",
            "Requirement already satisfied: mdurl~=0.1 in /usr/local/lib/python3.11/dist-packages (from markdown-it-py>=2.2.0->rich>=10.11.0->typer<1.0,>=0.12->gradio) (0.1.2)\n",
            "Downloading gradio-5.24.0-py3-none-any.whl (46.9 MB)\n",
            "\u001b[2K   \u001b[90m━━━━━━━━━━━━━━━━━━━━━━━━━━━━━━━━━━━━━━━━\u001b[0m \u001b[32m46.9/46.9 MB\u001b[0m \u001b[31m18.1 MB/s\u001b[0m eta \u001b[36m0:00:00\u001b[0m\n",
            "\u001b[?25hDownloading gradio_client-1.8.0-py3-none-any.whl (322 kB)\n",
            "\u001b[2K   \u001b[90m━━━━━━━━━━━━━━━━━━━━━━━━━━━━━━━━━━━━━━━━\u001b[0m \u001b[32m322.2/322.2 kB\u001b[0m \u001b[31m27.1 MB/s\u001b[0m eta \u001b[36m0:00:00\u001b[0m\n",
            "\u001b[?25hDownloading aiofiles-24.1.0-py3-none-any.whl (15 kB)\n",
            "Downloading fastapi-0.115.12-py3-none-any.whl (95 kB)\n",
            "\u001b[2K   \u001b[90m━━━━━━━━━━━━━━━━━━━━━━━━━━━━━━━━━━━━━━━━\u001b[0m \u001b[32m95.2/95.2 kB\u001b[0m \u001b[31m9.7 MB/s\u001b[0m eta \u001b[36m0:00:00\u001b[0m\n",
            "\u001b[?25hDownloading groovy-0.1.2-py3-none-any.whl (14 kB)\n",
            "Downloading python_multipart-0.0.20-py3-none-any.whl (24 kB)\n",
            "Downloading ruff-0.11.5-py3-none-manylinux_2_17_x86_64.manylinux2014_x86_64.whl (11.4 MB)\n",
            "\u001b[2K   \u001b[90m━━━━━━━━━━━━━━━━━━━━━━━━━━━━━━━━━━━━━━━━\u001b[0m \u001b[32m11.4/11.4 MB\u001b[0m \u001b[31m110.1 MB/s\u001b[0m eta \u001b[36m0:00:00\u001b[0m\n",
            "\u001b[?25hDownloading safehttpx-0.1.6-py3-none-any.whl (8.7 kB)\n",
            "Downloading semantic_version-2.10.0-py2.py3-none-any.whl (15 kB)\n",
            "Downloading starlette-0.46.1-py3-none-any.whl (71 kB)\n",
            "\u001b[2K   \u001b[90m━━━━━━━━━━━━━━━━━━━━━━━━━━━━━━━━━━━━━━━━\u001b[0m \u001b[32m72.0/72.0 kB\u001b[0m \u001b[31m5.0 MB/s\u001b[0m eta \u001b[36m0:00:00\u001b[0m\n",
            "\u001b[?25hDownloading tomlkit-0.13.2-py3-none-any.whl (37 kB)\n",
            "Downloading uvicorn-0.34.0-py3-none-any.whl (62 kB)\n",
            "\u001b[2K   \u001b[90m━━━━━━━━━━━━━━━━━━━━━━━━━━━━━━━━━━━━━━━━\u001b[0m \u001b[32m62.3/62.3 kB\u001b[0m \u001b[31m6.4 MB/s\u001b[0m eta \u001b[36m0:00:00\u001b[0m\n",
            "\u001b[?25hDownloading ffmpy-0.5.0-py3-none-any.whl (6.0 kB)\n",
            "Downloading pydub-0.25.1-py2.py3-none-any.whl (32 kB)\n",
            "Installing collected packages: pydub, uvicorn, tomlkit, semantic-version, ruff, python-multipart, groovy, ffmpy, aiofiles, starlette, safehttpx, gradio-client, fastapi, gradio\n",
            "Successfully installed aiofiles-24.1.0 fastapi-0.115.12 ffmpy-0.5.0 gradio-5.24.0 gradio-client-1.8.0 groovy-0.1.2 pydub-0.25.1 python-multipart-0.0.20 ruff-0.11.5 safehttpx-0.1.6 semantic-version-2.10.0 starlette-0.46.1 tomlkit-0.13.2 uvicorn-0.34.0\n"
          ]
        }
      ]
    },
    {
      "cell_type": "code",
      "source": [
        "import torch\n",
        "import torch.nn as nn\n",
        "from torchvision import models, transforms\n",
        "from PIL import Image\n",
        "\n",
        "import torch\n",
        "import torch.nn as nn\n",
        "import torchvision.models as models\n",
        "\n",
        "model_name = 'vgg16'\n",
        "#Customvgg16 class inherit from nn.Module\n",
        "class CustomVGG16(nn.Module):\n",
        "    def __init__(self, num_classes=2):\n",
        "        super(CustomVGG16, self).__init__()\n",
        "\n",
        "        # Loading pre-trained VGG16 model from tourchvision.models\n",
        "        vgg16 = models.vgg16(pretrained=True)\n",
        "\n",
        "        # Extracting the features and avgpool layers frm pretrainedmodel\n",
        "        self.features = vgg16.features\n",
        "        self.avgpool = vgg16.avgpool\n",
        "\n",
        "        # Define a new classifier nm.Sequential\n",
        "        self.classifier = nn.Sequential(\n",
        "            nn.Linear(512 * 7 * 7, 4096), #input and output\n",
        "            nn.ReLU(inplace=True), #for activation\n",
        "            nn.Dropout(), #for regularization\n",
        "            nn.Linear(4096, 4096),\n",
        "            nn.ReLU(inplace=True),\n",
        "            nn.Dropout(),\n",
        "            nn.Linear(4096, num_classes)\n",
        "        )\n",
        "\n",
        "    def forward(self, x):\n",
        "\n",
        "        x = self.features(x) # Passing the input through the features layer\n",
        "        x = self.avgpool(x) # Using the avgpool layer\n",
        "        x = torch.flatten(x, 1) # Reshaping the output to a 2D tensor\n",
        "        x = self.classifier(x) # Passing the reshaped output to the custom classifier\n",
        "        return x"
      ],
      "metadata": {
        "id": "p0cMglZxsxte"
      },
      "execution_count": 24,
      "outputs": []
    },
    {
      "cell_type": "code",
      "source": [
        "vgg16_path = '/content/checkpoint.pt'"
      ],
      "metadata": {
        "id": "cBgtv84Ms3_Y"
      },
      "execution_count": 25,
      "outputs": []
    },
    {
      "cell_type": "code",
      "source": [
        "vgg16_model = CustomVGG16(num_classes=2)\n",
        "vgg16_model.load_state_dict(torch.load(vgg16_path, map_location = torch.device('cpu')))\n",
        "vgg16_model.eval()"
      ],
      "metadata": {
        "colab": {
          "base_uri": "https://localhost:8080/"
        },
        "id": "oiTTkCGMtGCM",
        "outputId": "034d665c-c005-44c1-8206-6b47d39598f4"
      },
      "execution_count": 26,
      "outputs": [
        {
          "output_type": "stream",
          "name": "stderr",
          "text": [
            "/usr/local/lib/python3.11/dist-packages/torchvision/models/_utils.py:208: UserWarning: The parameter 'pretrained' is deprecated since 0.13 and may be removed in the future, please use 'weights' instead.\n",
            "  warnings.warn(\n",
            "/usr/local/lib/python3.11/dist-packages/torchvision/models/_utils.py:223: UserWarning: Arguments other than a weight enum or `None` for 'weights' are deprecated since 0.13 and may be removed in the future. The current behavior is equivalent to passing `weights=VGG16_Weights.IMAGENET1K_V1`. You can also use `weights=VGG16_Weights.DEFAULT` to get the most up-to-date weights.\n",
            "  warnings.warn(msg)\n"
          ]
        },
        {
          "output_type": "execute_result",
          "data": {
            "text/plain": [
              "CustomVGG16(\n",
              "  (features): Sequential(\n",
              "    (0): Conv2d(3, 64, kernel_size=(3, 3), stride=(1, 1), padding=(1, 1))\n",
              "    (1): ReLU(inplace=True)\n",
              "    (2): Conv2d(64, 64, kernel_size=(3, 3), stride=(1, 1), padding=(1, 1))\n",
              "    (3): ReLU(inplace=True)\n",
              "    (4): MaxPool2d(kernel_size=2, stride=2, padding=0, dilation=1, ceil_mode=False)\n",
              "    (5): Conv2d(64, 128, kernel_size=(3, 3), stride=(1, 1), padding=(1, 1))\n",
              "    (6): ReLU(inplace=True)\n",
              "    (7): Conv2d(128, 128, kernel_size=(3, 3), stride=(1, 1), padding=(1, 1))\n",
              "    (8): ReLU(inplace=True)\n",
              "    (9): MaxPool2d(kernel_size=2, stride=2, padding=0, dilation=1, ceil_mode=False)\n",
              "    (10): Conv2d(128, 256, kernel_size=(3, 3), stride=(1, 1), padding=(1, 1))\n",
              "    (11): ReLU(inplace=True)\n",
              "    (12): Conv2d(256, 256, kernel_size=(3, 3), stride=(1, 1), padding=(1, 1))\n",
              "    (13): ReLU(inplace=True)\n",
              "    (14): Conv2d(256, 256, kernel_size=(3, 3), stride=(1, 1), padding=(1, 1))\n",
              "    (15): ReLU(inplace=True)\n",
              "    (16): MaxPool2d(kernel_size=2, stride=2, padding=0, dilation=1, ceil_mode=False)\n",
              "    (17): Conv2d(256, 512, kernel_size=(3, 3), stride=(1, 1), padding=(1, 1))\n",
              "    (18): ReLU(inplace=True)\n",
              "    (19): Conv2d(512, 512, kernel_size=(3, 3), stride=(1, 1), padding=(1, 1))\n",
              "    (20): ReLU(inplace=True)\n",
              "    (21): Conv2d(512, 512, kernel_size=(3, 3), stride=(1, 1), padding=(1, 1))\n",
              "    (22): ReLU(inplace=True)\n",
              "    (23): MaxPool2d(kernel_size=2, stride=2, padding=0, dilation=1, ceil_mode=False)\n",
              "    (24): Conv2d(512, 512, kernel_size=(3, 3), stride=(1, 1), padding=(1, 1))\n",
              "    (25): ReLU(inplace=True)\n",
              "    (26): Conv2d(512, 512, kernel_size=(3, 3), stride=(1, 1), padding=(1, 1))\n",
              "    (27): ReLU(inplace=True)\n",
              "    (28): Conv2d(512, 512, kernel_size=(3, 3), stride=(1, 1), padding=(1, 1))\n",
              "    (29): ReLU(inplace=True)\n",
              "    (30): MaxPool2d(kernel_size=2, stride=2, padding=0, dilation=1, ceil_mode=False)\n",
              "  )\n",
              "  (avgpool): AdaptiveAvgPool2d(output_size=(7, 7))\n",
              "  (classifier): Sequential(\n",
              "    (0): Linear(in_features=25088, out_features=4096, bias=True)\n",
              "    (1): ReLU(inplace=True)\n",
              "    (2): Dropout(p=0.5, inplace=False)\n",
              "    (3): Linear(in_features=4096, out_features=4096, bias=True)\n",
              "    (4): ReLU(inplace=True)\n",
              "    (5): Dropout(p=0.5, inplace=False)\n",
              "    (6): Linear(in_features=4096, out_features=2, bias=True)\n",
              "  )\n",
              ")"
            ]
          },
          "metadata": {},
          "execution_count": 26
        }
      ]
    },
    {
      "cell_type": "code",
      "source": [
        "# Preprocessing the input image to match your modelss' requirements.\n",
        "\n",
        "preprocess = transforms.Compose([\n",
        "    transforms.Resize((224, 224)),\n",
        "    transforms.ToTensor(),\n",
        "    transforms.Normalize(mean=[0.485, 0.456, 0.406], std=[0.229, 0.224, 0.225])\n",
        "])"
      ],
      "metadata": {
        "id": "fQ61gqtOtJNz"
      },
      "execution_count": 27,
      "outputs": []
    },
    {
      "cell_type": "code",
      "source": [
        "def predict(model_name, image):\n",
        "    #preprocessing the image\n",
        "    #adds a new dimension at the 0th position (i.e., the first position).\n",
        "    img = preprocess(image).unsqueeze(0) # This sets the batch size to 1\n",
        "\n",
        "    # Select the model\n",
        "    if model_name == \"VGG16\":\n",
        "        model = vgg16_model\n",
        "    elif model_name == \"ResNet18\":\n",
        "        model = resnet18_model\n",
        "    elif model_name == \"ResNet50\":\n",
        "        model = resnet50_model\n",
        "    else:\n",
        "        return \"Invalid model name\"\n",
        "\n",
        "\n",
        "    # Get the model's prediction\n",
        "    with torch.no_grad():\n",
        "        outputs = model(img)\n",
        "        _, predicted = torch.max(outputs, 1)  # Get class index\n",
        "\n",
        "    # Define class labels\n",
        "    classes = [\"benign\", \"malignant\"]\n",
        "    return classes[predicted.item()]  # Return the predicted label"
      ],
      "metadata": {
        "id": "UmKthvfqtSvH"
      },
      "execution_count": 30,
      "outputs": []
    },
    {
      "cell_type": "code",
      "source": [
        "import gradio as gr\n",
        "\n",
        "# Create the interface\n",
        "interface = gr.Interface(\n",
        "    fn=predict,  # Function to call for prediction\n",
        "    inputs=[\n",
        "        gr.Dropdown(choices=[\"VGG16\"], label=\"Select Model\"),  # Dropdown for model selection\n",
        "        gr.Image(type=\"pil\")  # Input: Upload an image\n",
        "    ],\n",
        "    outputs=\"label\",  # Output: Display the label (benign/malignant)\n",
        "    title=\"Tumor Classification\",\n",
        "    description=\"Select a model and upload an MRI image to classify it as benign or malignant.\"\n",
        ")\n",
        "\n",
        "# Launch the app\n",
        "interface.launch()"
      ],
      "metadata": {
        "colab": {
          "base_uri": "https://localhost:8080/",
          "height": 646
        },
        "id": "y82yH7CxtXY_",
        "outputId": "fe4577fe-cf43-46ee-d1c0-aa1e774446a8"
      },
      "execution_count": 32,
      "outputs": [
        {
          "output_type": "stream",
          "name": "stdout",
          "text": [
            "Running Gradio in a Colab notebook requires sharing enabled. Automatically setting `share=True` (you can turn this off by setting `share=False` in `launch()` explicitly).\n",
            "\n",
            "Colab notebook detected. To show errors in colab notebook, set debug=True in launch()\n",
            "* Running on public URL: https://aa63dfdf91ef48b10b.gradio.live\n",
            "\n",
            "This share link expires in 72 hours. For free permanent hosting and GPU upgrades, run `gradio deploy` from the terminal in the working directory to deploy to Hugging Face Spaces (https://huggingface.co/spaces)\n"
          ]
        },
        {
          "output_type": "display_data",
          "data": {
            "text/plain": [
              "<IPython.core.display.HTML object>"
            ],
            "text/html": [
              "<div><iframe src=\"https://aa63dfdf91ef48b10b.gradio.live\" width=\"100%\" height=\"500\" allow=\"autoplay; camera; microphone; clipboard-read; clipboard-write;\" frameborder=\"0\" allowfullscreen></iframe></div>"
            ]
          },
          "metadata": {}
        },
        {
          "output_type": "execute_result",
          "data": {
            "text/plain": []
          },
          "metadata": {},
          "execution_count": 32
        }
      ]
    },
    {
      "cell_type": "code",
      "source": [],
      "metadata": {
        "id": "pMcwo71HtanH"
      },
      "execution_count": null,
      "outputs": []
    }
  ]
}